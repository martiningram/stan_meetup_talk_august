{
 "cells": [
  {
   "cell_type": "code",
   "execution_count": 1,
   "metadata": {},
   "outputs": [],
   "source": [
    "import pystan\n",
    "import pandas as pd\n",
    "import numpy as np\n",
    "import matplotlib.pyplot as plt\n",
    "%matplotlib inline\n",
    "import seaborn as sns"
   ]
  },
  {
   "cell_type": "code",
   "execution_count": 2,
   "metadata": {},
   "outputs": [],
   "source": [
    "data = pd.read_csv('./afl.csv')"
   ]
  },
  {
   "cell_type": "code",
   "execution_count": 3,
   "metadata": {},
   "outputs": [],
   "source": [
    "data.head()\n",
    "data['Date'] = pd.to_datetime(data['Date'])"
   ]
  },
  {
   "cell_type": "code",
   "execution_count": 4,
   "metadata": {},
   "outputs": [
    {
     "data": {
      "text/html": [
       "<div>\n",
       "<style scoped>\n",
       "    .dataframe tbody tr th:only-of-type {\n",
       "        vertical-align: middle;\n",
       "    }\n",
       "\n",
       "    .dataframe tbody tr th {\n",
       "        vertical-align: top;\n",
       "    }\n",
       "\n",
       "    .dataframe thead th {\n",
       "        text-align: right;\n",
       "    }\n",
       "</style>\n",
       "<table border=\"1\" class=\"dataframe\">\n",
       "  <thead>\n",
       "    <tr style=\"text-align: right;\">\n",
       "      <th></th>\n",
       "      <th>Date</th>\n",
       "      <th>Kick Off (local)</th>\n",
       "      <th>Home Team</th>\n",
       "      <th>Away Team</th>\n",
       "      <th>Venue</th>\n",
       "      <th>Home Score</th>\n",
       "      <th>Away Score</th>\n",
       "      <th>Play Off Game?</th>\n",
       "      <th>Home Goals</th>\n",
       "      <th>Home Behinds</th>\n",
       "      <th>...</th>\n",
       "      <th>Total Score Close</th>\n",
       "      <th>Total Score Over Open</th>\n",
       "      <th>Total Score Over Min</th>\n",
       "      <th>Total Score Over Max</th>\n",
       "      <th>Total Score Over Close</th>\n",
       "      <th>Total Score Under Open</th>\n",
       "      <th>Total Score Under Min</th>\n",
       "      <th>Total Score Under Max</th>\n",
       "      <th>Total Score Under Close</th>\n",
       "      <th>Notes</th>\n",
       "    </tr>\n",
       "  </thead>\n",
       "  <tbody>\n",
       "    <tr>\n",
       "      <th>0</th>\n",
       "      <td>2018-08-19</td>\n",
       "      <td>16:10</td>\n",
       "      <td>Adelaide</td>\n",
       "      <td>North Melbourne</td>\n",
       "      <td>Adelaide Oval</td>\n",
       "      <td>86</td>\n",
       "      <td>77</td>\n",
       "      <td>NaN</td>\n",
       "      <td>12</td>\n",
       "      <td>14</td>\n",
       "      <td>...</td>\n",
       "      <td>186.5</td>\n",
       "      <td>1.9</td>\n",
       "      <td>1.9</td>\n",
       "      <td>1.9</td>\n",
       "      <td>1.9</td>\n",
       "      <td>1.9</td>\n",
       "      <td>1.9</td>\n",
       "      <td>1.9</td>\n",
       "      <td>1.9</td>\n",
       "      <td>NaN</td>\n",
       "    </tr>\n",
       "    <tr>\n",
       "      <th>1</th>\n",
       "      <td>2018-08-19</td>\n",
       "      <td>13:20</td>\n",
       "      <td>West Coast</td>\n",
       "      <td>Melbourne</td>\n",
       "      <td>Optus Stadium</td>\n",
       "      <td>91</td>\n",
       "      <td>108</td>\n",
       "      <td>NaN</td>\n",
       "      <td>14</td>\n",
       "      <td>7</td>\n",
       "      <td>...</td>\n",
       "      <td>173.5</td>\n",
       "      <td>1.9</td>\n",
       "      <td>1.9</td>\n",
       "      <td>1.9</td>\n",
       "      <td>1.9</td>\n",
       "      <td>1.9</td>\n",
       "      <td>1.9</td>\n",
       "      <td>1.9</td>\n",
       "      <td>1.9</td>\n",
       "      <td>NaN</td>\n",
       "    </tr>\n",
       "    <tr>\n",
       "      <th>2</th>\n",
       "      <td>2018-08-19</td>\n",
       "      <td>13:10</td>\n",
       "      <td>Carlton</td>\n",
       "      <td>Western Bulldogs</td>\n",
       "      <td>Etihad Stadium</td>\n",
       "      <td>49</td>\n",
       "      <td>66</td>\n",
       "      <td>NaN</td>\n",
       "      <td>7</td>\n",
       "      <td>7</td>\n",
       "      <td>...</td>\n",
       "      <td>171.5</td>\n",
       "      <td>1.9</td>\n",
       "      <td>1.9</td>\n",
       "      <td>1.9</td>\n",
       "      <td>1.9</td>\n",
       "      <td>1.9</td>\n",
       "      <td>1.9</td>\n",
       "      <td>1.9</td>\n",
       "      <td>1.9</td>\n",
       "      <td>NaN</td>\n",
       "    </tr>\n",
       "    <tr>\n",
       "      <th>3</th>\n",
       "      <td>2018-08-18</td>\n",
       "      <td>19:25</td>\n",
       "      <td>Gold Coast</td>\n",
       "      <td>Brisbane</td>\n",
       "      <td>Metricon Stadium</td>\n",
       "      <td>74</td>\n",
       "      <td>78</td>\n",
       "      <td>NaN</td>\n",
       "      <td>11</td>\n",
       "      <td>8</td>\n",
       "      <td>...</td>\n",
       "      <td>177.5</td>\n",
       "      <td>1.9</td>\n",
       "      <td>1.9</td>\n",
       "      <td>1.9</td>\n",
       "      <td>1.9</td>\n",
       "      <td>1.9</td>\n",
       "      <td>1.9</td>\n",
       "      <td>1.9</td>\n",
       "      <td>1.9</td>\n",
       "      <td>NaN</td>\n",
       "    </tr>\n",
       "    <tr>\n",
       "      <th>4</th>\n",
       "      <td>2018-08-18</td>\n",
       "      <td>19:25</td>\n",
       "      <td>St Kilda</td>\n",
       "      <td>Hawthorn</td>\n",
       "      <td>Etihad Stadium</td>\n",
       "      <td>76</td>\n",
       "      <td>80</td>\n",
       "      <td>NaN</td>\n",
       "      <td>11</td>\n",
       "      <td>10</td>\n",
       "      <td>...</td>\n",
       "      <td>175.5</td>\n",
       "      <td>1.9</td>\n",
       "      <td>1.9</td>\n",
       "      <td>1.9</td>\n",
       "      <td>1.9</td>\n",
       "      <td>1.9</td>\n",
       "      <td>1.9</td>\n",
       "      <td>1.9</td>\n",
       "      <td>1.9</td>\n",
       "      <td>NaN</td>\n",
       "    </tr>\n",
       "  </tbody>\n",
       "</table>\n",
       "<p>5 rows × 52 columns</p>\n",
       "</div>"
      ],
      "text/plain": [
       "        Date Kick Off (local)   Home Team         Away Team             Venue  \\\n",
       "0 2018-08-19            16:10    Adelaide   North Melbourne     Adelaide Oval   \n",
       "1 2018-08-19            13:20  West Coast         Melbourne     Optus Stadium   \n",
       "2 2018-08-19            13:10     Carlton  Western Bulldogs    Etihad Stadium   \n",
       "3 2018-08-18            19:25  Gold Coast          Brisbane  Metricon Stadium   \n",
       "4 2018-08-18            19:25    St Kilda          Hawthorn    Etihad Stadium   \n",
       "\n",
       "   Home Score  Away Score Play Off Game?  Home Goals  Home Behinds  ...    \\\n",
       "0          86          77            NaN          12            14  ...     \n",
       "1          91         108            NaN          14             7  ...     \n",
       "2          49          66            NaN           7             7  ...     \n",
       "3          74          78            NaN          11             8  ...     \n",
       "4          76          80            NaN          11            10  ...     \n",
       "\n",
       "   Total Score Close  Total Score Over Open  Total Score Over Min  \\\n",
       "0              186.5                    1.9                   1.9   \n",
       "1              173.5                    1.9                   1.9   \n",
       "2              171.5                    1.9                   1.9   \n",
       "3              177.5                    1.9                   1.9   \n",
       "4              175.5                    1.9                   1.9   \n",
       "\n",
       "   Total Score Over Max  Total Score Over Close  Total Score Under Open  \\\n",
       "0                   1.9                     1.9                     1.9   \n",
       "1                   1.9                     1.9                     1.9   \n",
       "2                   1.9                     1.9                     1.9   \n",
       "3                   1.9                     1.9                     1.9   \n",
       "4                   1.9                     1.9                     1.9   \n",
       "\n",
       "   Total Score Under Min  Total Score Under Max  Total Score Under Close  \\\n",
       "0                    1.9                    1.9                      1.9   \n",
       "1                    1.9                    1.9                      1.9   \n",
       "2                    1.9                    1.9                      1.9   \n",
       "3                    1.9                    1.9                      1.9   \n",
       "4                    1.9                    1.9                      1.9   \n",
       "\n",
       "   Notes  \n",
       "0    NaN  \n",
       "1    NaN  \n",
       "2    NaN  \n",
       "3    NaN  \n",
       "4    NaN  \n",
       "\n",
       "[5 rows x 52 columns]"
      ]
     },
     "execution_count": 4,
     "metadata": {},
     "output_type": "execute_result"
    }
   ],
   "source": [
    "# Discard draws\n",
    "data = data[data['Home Score'] != data['Away Score']]\n",
    "\n",
    "data.head()"
   ]
  },
  {
   "cell_type": "code",
   "execution_count": 5,
   "metadata": {},
   "outputs": [
    {
     "data": {
      "text/plain": [
       "(1009, 52)"
      ]
     },
     "execution_count": 5,
     "metadata": {},
     "output_type": "execute_result"
    }
   ],
   "source": [
    "data = data[data['Date'].dt.year >= 2014]\n",
    "\n",
    "data.shape"
   ]
  },
  {
   "cell_type": "code",
   "execution_count": 6,
   "metadata": {},
   "outputs": [],
   "source": [
    "# Let's look at who plays at home\n",
    "counts = data.groupby('Home Team')['Venue'].value_counts()\n",
    "home_venues = counts[counts > 3]\n",
    "\n",
    "home_venues"
   ]
  },
  {
   "cell_type": "code",
   "execution_count": 7,
   "metadata": {},
   "outputs": [],
   "source": [
    "def is_truly_home(row):\n",
    "    \n",
    "    home = row['Home Team']\n",
    "    away = row['Away Team']\n",
    "    venue = row['Venue']\n",
    "    \n",
    "    really_home = venue in home_venues.loc[home] and venue not in home_venues.loc[away]\n",
    "    \n",
    "    return really_home"
   ]
  },
  {
   "cell_type": "code",
   "execution_count": 8,
   "metadata": {},
   "outputs": [],
   "source": [
    "truly_home = data.apply(is_truly_home, axis=1)"
   ]
  },
  {
   "cell_type": "code",
   "execution_count": 9,
   "metadata": {},
   "outputs": [
    {
     "name": "stderr",
     "output_type": "stream",
     "text": [
      "INFO:pystan:COMPILING THE C++ CODE FOR MODEL anon_model_f06a43d20aaf3978a3816aae882e7053 NOW.\n"
     ]
    }
   ],
   "source": [
    "model_code = \"\"\"\n",
    "data {\n",
    "    int<lower=1> N; // Number of matches\n",
    "    int<lower=1> J; // Number of teams\n",
    "    int<lower=1> K; // Number of seasons\n",
    "    \n",
    "    int home_id[N]; // Home team ID\n",
    "    int away_id[N]; // Away team ID\n",
    "    \n",
    "    int season[N]; // Season number for each match\n",
    "    int home_won[N]; // Whether or not home team won\n",
    "    \n",
    "    vector[N] home_mask; // Whether there was a home team or not\n",
    "}\n",
    "parameters {\n",
    "    matrix[K, J] team_skills;\n",
    "    vector[J] home_advantages;\n",
    "    \n",
    "    real home_ad_mean;\n",
    "    real<lower=0> home_ad_var;\n",
    "}\n",
    "model {\n",
    "    vector[N] home_skills;\n",
    "    vector[N] away_skills;\n",
    "    vector[N] home_bonuses;\n",
    "    \n",
    "    home_bonuses = home_advantages[home_id];\n",
    "    home_bonuses = home_bonuses .* home_mask;\n",
    "    \n",
    "    for (i in 1:N) {\n",
    "        home_skills[i] = team_skills[season[i], home_id[i]];\n",
    "        away_skills[i] = team_skills[season[i], away_id[i]];\n",
    "    }\n",
    "    \n",
    "    to_vector(team_skills) ~ normal(0., 1.);\n",
    "    home_advantages ~ normal(home_ad_mean, home_ad_var);\n",
    "    home_won ~ bernoulli_logit(home_skills - away_skills + home_bonuses);\n",
    "}\n",
    "\"\"\"\n",
    "\n",
    "model = pystan.StanModel(model_code=model_code)"
   ]
  },
  {
   "cell_type": "code",
   "execution_count": 10,
   "metadata": {},
   "outputs": [
    {
     "name": "stderr",
     "output_type": "stream",
     "text": [
      "/anaconda2/envs/py2/lib/python2.7/site-packages/pystan/misc.py:399: FutureWarning: Conversion of the second argument of issubdtype from `float` to `np.floating` is deprecated. In future, it will be treated as `np.float64 == np.dtype(float).type`.\n",
      "  elif np.issubdtype(np.asarray(v).dtype, float):\n"
     ]
    }
   ],
   "source": [
    "from sklearn.preprocessing import LabelEncoder\n",
    "\n",
    "encoder = LabelEncoder()\n",
    "home = data['Home Team'].tolist()\n",
    "away = data['Away Team'].tolist()\n",
    "\n",
    "encoder.fit(home + away)\n",
    "\n",
    "season = data['Date'].dt.year - data['Date'].dt.year.min() + 1\n",
    "\n",
    "stan_data = {\n",
    "    'N': data.shape[0],\n",
    "    'home_id': encoder.transform(home) + 1,\n",
    "    'away_id': encoder.transform(away) + 1,\n",
    "    'J': len(encoder.classes_),\n",
    "    'home_won': (data['Home Score'] > data['Away Score']).values.astype(int),\n",
    "    'home_mask': truly_home.values.astype(float),\n",
    "    'season': season,\n",
    "    'K': season.max()\n",
    "}\n",
    "\n",
    "fit = model.sampling(data=stan_data)"
   ]
  },
  {
   "cell_type": "code",
   "execution_count": 11,
   "metadata": {},
   "outputs": [
    {
     "name": "stdout",
     "output_type": "stream",
     "text": [
      "Inference for Stan model: anon_model_f06a43d20aaf3978a3816aae882e7053.\n",
      "4 chains, each with iter=2000; warmup=1000; thin=1; \n",
      "post-warmup draws per chain=1000, total post-warmup draws=4000.\n",
      "\n",
      "                      mean se_mean     sd   2.5%    25%    50%    75%  97.5%  n_eff   Rhat\n",
      "team_skills[0,0]     -0.06  7.8e-3    0.5  -1.04  -0.39  -0.06   0.28   0.91 4000.0    1.0\n",
      "team_skills[1,0]      0.47  7.6e-3   0.48  -0.45   0.14   0.47   0.79   1.42 4000.0    1.0\n",
      "team_skills[2,0]      0.94  7.9e-3    0.5  -0.04   0.61   0.93   1.26   1.95 4000.0    1.0\n",
      "team_skills[3,0]      0.84  7.5e-3   0.47   -0.1   0.53   0.84   1.15   1.78 4000.0    1.0\n",
      "team_skills[4,0]      0.11  7.8e-3   0.49  -0.84  -0.21   0.11   0.45   1.08 4000.0    1.0\n",
      "team_skills[0,1]     -0.54  8.0e-3   0.51  -1.56  -0.89  -0.54  -0.19   0.44 4000.0    1.0\n",
      "team_skills[1,1]     -1.25  8.6e-3   0.54  -2.32  -1.62  -1.24  -0.88  -0.21 4000.0    1.0\n",
      "team_skills[2,1]     -1.47  8.9e-3   0.56  -2.64  -1.85  -1.47  -1.08   -0.4 4000.0    1.0\n",
      "team_skills[3,1]     -0.94  7.8e-3    0.5   -1.9  -1.28  -0.94   -0.6   0.03 4000.0    1.0\n",
      "team_skills[4,1]     -0.92  8.4e-3   0.53  -1.97  -1.27  -0.94  -0.57   0.11 4000.0    1.0\n",
      "team_skills[0,2]     -0.65  7.9e-3    0.5  -1.64  -0.98  -0.65  -0.32    0.3 4000.0    1.0\n",
      "team_skills[1,2]     -1.38  8.3e-3   0.52  -2.41  -1.72  -1.36  -1.03  -0.35 4000.0    1.0\n",
      "team_skills[2,2]     -0.82  8.0e-3    0.5  -1.83  -1.15  -0.83   -0.5   0.21 4000.0    1.0\n",
      "team_skills[3,2]     -0.85  7.6e-3   0.48   -1.8  -1.17  -0.85  -0.52   0.05 4000.0    1.0\n",
      "team_skills[4,2]     -1.82  9.0e-3   0.57  -2.99  -2.19   -1.8  -1.42  -0.73 4000.0    1.0\n",
      "team_skills[0,3]      0.02  7.5e-3   0.47  -0.91  -0.32   0.04   0.34   0.93 4000.0    1.0\n",
      "team_skills[1,3]     -0.27  9.6e-3   0.48  -1.21   -0.6  -0.27   0.05   0.67 2535.0    1.0\n",
      "team_skills[2,3]     -0.35  7.9e-3    0.5  -1.34  -0.67  -0.34-1.9e-3   0.58 4000.0    1.0\n",
      "team_skills[3,3]     -0.23  7.4e-3   0.47  -1.16  -0.55  -0.23   0.09   0.68 4000.0    1.0\n",
      "team_skills[4,3]      0.57  8.0e-3    0.5  -0.39   0.22   0.56    0.9   1.59 4000.0    1.0\n",
      "team_skills[0,4]      0.21  9.7e-3   0.48  -0.72  -0.11   0.21   0.54   1.16 2433.0    1.0\n",
      "team_skills[1,4]     -0.84  7.7e-3   0.49  -1.81  -1.17  -0.83  -0.52   0.09 4000.0    1.0\n",
      "team_skills[2,4]     -1.59  8.4e-3   0.53  -2.65  -1.95  -1.59  -1.23  -0.58 4000.0    1.0\n",
      "team_skills[3,4]      0.04    0.01   0.47  -0.87  -0.27   0.04   0.35    1.0 1613.0    1.0\n",
      "team_skills[4,4]      0.18  7.7e-3   0.48  -0.79  -0.14   0.18   0.49   1.13 4000.0    1.0\n",
      "team_skills[0,5]      0.76  7.7e-3   0.48   -0.2   0.44   0.76   1.09    1.7 4000.0    1.0\n",
      "team_skills[1,5]      1.14  8.0e-3   0.51   0.14   0.81   1.13   1.48   2.13 4000.0    1.0\n",
      "team_skills[2,5]     -1.33  8.5e-3   0.54  -2.42  -1.69  -1.32  -0.97  -0.29 4000.0    1.0\n",
      "team_skills[3,5]     -0.56  7.7e-3   0.49  -1.53  -0.89  -0.56  -0.24   0.37 4000.0    1.0\n",
      "team_skills[4,5]      -0.5  8.1e-3   0.51  -1.51  -0.83   -0.5  -0.17   0.53 4000.0    1.0\n",
      "team_skills[0,6]     -1.05    0.01    0.5  -2.04  -1.38  -1.04  -0.71  -0.08 2353.0    1.0\n",
      "team_skills[1,6]     -0.21    0.01   0.51  -1.23  -0.54  -0.21   0.14   0.79 2485.0    1.0\n",
      "team_skills[2,6]      0.92  7.8e-3   0.49  -0.02   0.58   0.91   1.25   1.91 4000.0    1.0\n",
      "team_skills[3,6]      0.71  7.7e-3   0.49  -0.25   0.38   0.71   1.03   1.66 4000.0    1.0\n",
      "team_skills[4,6]      0.54    0.01   0.51  -0.52    0.2   0.54   0.88   1.55 2572.0    1.0\n",
      "team_skills[0,7]       0.9    0.01    0.5  -0.04   0.55   0.89   1.24    1.9 2096.0    1.0\n",
      "team_skills[1,7]      0.18  7.9e-3    0.5  -0.79  -0.15   0.17   0.51   1.17 4000.0    1.0\n",
      "team_skills[2,7]      1.04  7.9e-3    0.5   0.08   0.71   1.04   1.38   2.05 4000.0    1.0\n",
      "team_skills[3,7]       0.6  7.5e-3   0.48  -0.34   0.27    0.6   0.91   1.53 4000.0    1.0\n",
      "team_skills[4,7]       0.3  8.0e-3   0.51   -0.7  -0.03    0.3   0.64   1.27 4000.0    1.0\n",
      "team_skills[0,8]     -0.21  9.5e-3   0.49  -1.17  -0.55  -0.19   0.13   0.75 2728.0    1.0\n",
      "team_skills[1,8]     -1.28  8.6e-3   0.54  -2.38  -1.64  -1.27  -0.91  -0.26 4000.0    1.0\n",
      "team_skills[2,8]     -1.07  8.2e-3   0.52  -2.11  -1.42  -1.07  -0.71  -0.09 4000.0    1.0\n",
      "team_skills[3,8]     -0.96  8.0e-3   0.51  -1.97   -1.3  -0.96  -0.62 2.0e-3 4000.0    1.0\n",
      "team_skills[4,8]     -1.35  8.6e-3   0.55  -2.46  -1.71  -1.34  -0.98  -0.32 4000.0    1.0\n",
      "team_skills[0,9]      1.44  7.9e-3    0.5   0.48   1.11   1.44   1.77   2.46 4000.0    1.0\n",
      "team_skills[1,9]      1.15  7.6e-3   0.48   0.22   0.81   1.15   1.48    2.1 4000.0    1.0\n",
      "team_skills[2,9]      0.98  7.8e-3    0.5   0.01   0.66   0.98   1.31   1.97 4000.0    1.0\n",
      "team_skills[3,9]     -0.11  7.6e-3   0.48  -1.05  -0.43  -0.11    0.2   0.82 4000.0    1.0\n",
      "team_skills[4,9]       0.6  8.0e-3   0.51   -0.4   0.26   0.59   0.93   1.63 4000.0    1.0\n",
      "team_skills[0,10]    -1.24  8.2e-3   0.52  -2.29  -1.59  -1.23  -0.89  -0.23 4000.0    1.0\n",
      "team_skills[1,10]    -0.64  9.8e-3    0.5  -1.64  -0.96  -0.64  -0.29   0.35 2661.0    1.0\n",
      "team_skills[2,10]    -0.09  7.8e-3   0.49  -1.06  -0.42   -0.1   0.24   0.88 4000.0    1.0\n",
      "team_skills[3,10]     0.26  7.7e-3   0.49  -0.69  -0.07   0.25   0.59    1.2 4000.0    1.0\n",
      "team_skills[4,10]     0.47  7.8e-3   0.49  -0.51   0.15   0.47   0.81   1.41 4000.0    1.0\n",
      "team_skills[0,11]     0.65  9.1e-3   0.47  -0.28   0.33   0.64   0.97    1.6 2682.0    1.0\n",
      "team_skills[1,11]     0.51  7.3e-3   0.46  -0.42    0.2    0.5   0.81   1.42 4000.0    1.0\n",
      "team_skills[2,11]     0.26  7.6e-3   0.48   -0.7  -0.06   0.26   0.58   1.21 4000.0    1.0\n",
      "team_skills[3,11]    -0.96  7.9e-3    0.5  -1.99  -1.28  -0.94  -0.63  -0.01 4000.0    1.0\n",
      "team_skills[4,11]    -0.02  7.7e-3   0.49  -1.01  -0.36  -0.02   0.31   0.92 4000.0    1.0\n",
      "team_skills[0,12]     0.68  7.7e-3   0.49  -0.26   0.35   0.67   1.01   1.62 4000.0    1.0\n",
      "team_skills[1,12]     0.26  7.7e-3   0.48   -0.7  -0.05   0.27   0.59   1.19 4000.0    1.0\n",
      "team_skills[2,12]    -0.19  7.8e-3   0.49  -1.15  -0.52   -0.2   0.14   0.78 4000.0    1.0\n",
      "team_skills[3,12]     0.35  7.6e-3   0.48   -0.6   0.02   0.35   0.67   1.32 4000.0    1.0\n",
      "team_skills[4,12]     0.25  9.9e-3    0.5  -0.72  -0.08   0.25   0.59   1.22 2501.0    1.0\n",
      "team_skills[0,13]      0.1  7.6e-3   0.48   -0.8  -0.24   0.09   0.42   1.07 4000.0    1.0\n",
      "team_skills[1,13]     0.63  7.7e-3   0.49  -0.31    0.3   0.62   0.94   1.62 4000.0    1.0\n",
      "team_skills[2,13]    -0.51  7.8e-3   0.49  -1.49  -0.82  -0.51  -0.17   0.44 4000.0    1.0\n",
      "team_skills[3,13]     0.94  7.5e-3   0.47 8.6e-3   0.63   0.93   1.26   1.89 4000.0    1.0\n",
      "team_skills[4,13]     1.34  8.1e-3   0.51   0.36   0.98   1.34    1.7   2.38 4000.0    1.0\n",
      "team_skills[0,14]    -1.33  8.3e-3   0.53  -2.41  -1.67  -1.32  -0.98  -0.31 4000.0    1.0\n",
      "team_skills[1,14]     -0.8  7.9e-3    0.5   -1.8  -1.14  -0.79  -0.46   0.15 4000.0    1.0\n",
      "team_skills[2,14]     0.22  7.7e-3   0.49  -0.74   -0.1   0.23   0.55   1.16 4000.0    1.0\n",
      "team_skills[3,14]      0.1  7.5e-3   0.48  -0.83  -0.22   0.09   0.41   1.03 4000.0    1.0\n",
      "team_skills[4,14]    -1.07  8.6e-3   0.54  -2.16  -1.42  -1.07   -0.7  -0.03 4000.0    1.0\n",
      "team_skills[0,15]     1.28    0.01   0.51   0.32   0.93   1.26   1.61   2.31 2464.0    1.0\n",
      "team_skills[1,15]     0.85    0.01   0.49  -0.08   0.51   0.85   1.19   1.82 2123.0    1.0\n",
      "team_skills[2,15]     1.27  7.9e-3    0.5   0.27   0.94   1.27   1.62   2.24 4000.0    1.0\n",
      "team_skills[3,15]     0.64  7.7e-3   0.49  -0.31   0.31   0.63   0.97   1.59 4000.0    1.0\n",
      "team_skills[4,15]     0.83  7.8e-3   0.49  -0.14    0.5   0.83   1.16    1.8 4000.0    1.0\n",
      "team_skills[0,16]    -0.13  7.9e-3    0.5   -1.1  -0.47  -0.13    0.2   0.84 4000.0    1.0\n",
      "team_skills[1,16]      1.1  8.1e-3   0.51   0.12   0.76    1.1   1.44   2.11 4000.0    1.0\n",
      "team_skills[2,16]     0.82  8.2e-3   0.52  -0.17   0.46   0.82   1.15   1.84 4000.0    1.0\n",
      "team_skills[3,16]     0.21    0.01   0.46  -0.69  -0.08   0.21   0.52   1.13 1828.0    1.0\n",
      "team_skills[4,16]     0.83  8.0e-3   0.51  -0.16   0.49   0.82   1.17   1.82 4000.0    1.0\n",
      "team_skills[0,17]    -0.77  9.7e-3   0.49  -1.76   -1.1  -0.77  -0.44   0.18 2550.0    1.0\n",
      "team_skills[1,17]     0.43  7.6e-3   0.48  -0.48    0.1   0.42   0.77   1.39 4000.0    1.0\n",
      "team_skills[2,17]     1.24  7.5e-3   0.48   0.34   0.91   1.22   1.56    2.2 4000.0    1.0\n",
      "team_skills[3,17]     0.06  7.6e-3   0.48  -0.89  -0.26   0.07   0.39   1.02 4000.0    1.0\n",
      "team_skills[4,17]    -0.49  7.9e-3    0.5  -1.51  -0.82  -0.48  -0.16   0.48 4000.0    1.0\n",
      "home_advantages[0]    0.58  6.3e-3   0.26   0.11   0.41   0.55   0.74   1.14 1700.0    1.0\n",
      "home_advantages[1]    0.11    0.01   0.32  -0.64  -0.09   0.16   0.34    0.6  750.0    1.0\n",
      "home_advantages[2]    0.47  4.7e-3   0.28  -0.08    0.3   0.46   0.64   1.03 3470.0    1.0\n",
      "home_advantages[3]    0.45  4.9e-3   0.28  -0.13   0.28   0.45   0.61   1.05 3397.0    1.0\n",
      "home_advantages[4]    0.45  4.5e-3   0.29  -0.14   0.28   0.45   0.62   1.01 4000.0    1.0\n",
      "home_advantages[5]    0.56  5.6e-3   0.27   0.05   0.39   0.54   0.72   1.15 2286.0    1.0\n",
      "home_advantages[6]    0.61  6.7e-3   0.27   0.14   0.43   0.58   0.77   1.24 1621.0    1.0\n",
      "home_advantages[7]    0.75    0.01   0.33   0.25   0.51   0.71   0.95    1.5  914.0    1.0\n",
      "home_advantages[8]    0.38  4.6e-3   0.26  -0.18   0.22   0.39   0.54   0.87 3126.0    1.0\n",
      "home_advantages[9]    0.54  5.7e-3   0.29-1.4e-3   0.36   0.51   0.71   1.17 2610.0    1.0\n",
      "home_advantages[10]   0.15    0.01   0.32  -0.57  -0.04    0.2   0.38   0.66  961.0    1.0\n",
      "home_advantages[11]   0.56  5.6e-3   0.28   0.04   0.39   0.53   0.73   1.14 2414.0    1.0\n",
      "home_advantages[12]   0.49  4.4e-3   0.26  -0.01   0.34   0.49   0.64   1.01 3312.0    1.0\n",
      "home_advantages[13]   0.37  4.4e-3   0.28  -0.23   0.21   0.39   0.55   0.89 4000.0    1.0\n",
      "home_advantages[14]    0.4  5.1e-3   0.28   -0.2   0.23   0.41   0.57   0.95 3123.0    1.0\n",
      "home_advantages[15]    0.2  8.7e-3   0.29  -0.47   0.04   0.24    0.4   0.69 1113.0    1.0\n",
      "home_advantages[16]   0.61  7.3e-3   0.27   0.14   0.42   0.57   0.77   1.21 1358.0    1.0\n",
      "home_advantages[17]   0.37  4.8e-3   0.28  -0.21   0.21   0.39   0.54    0.9 3329.0    1.0\n",
      "home_ad_mean          0.45  2.7e-3   0.12   0.21   0.37   0.45   0.53   0.69 2026.0    1.0\n",
      "home_ad_var           0.32  8.2e-3   0.16   0.08    0.2    0.3   0.42   0.67  370.0   1.01\n",
      "lp__                -580.1    0.55  10.87 -599.3 -587.8 -580.9 -573.2 -556.3  387.0   1.01\n",
      "\n",
      "Samples were drawn using NUTS at Thu Aug 30 12:34:38 2018.\n",
      "For each parameter, n_eff is a crude measure of effective sample size,\n",
      "and Rhat is the potential scale reduction factor on split chains (at \n",
      "convergence, Rhat=1).\n"
     ]
    }
   ],
   "source": [
    "print(fit)"
   ]
  },
  {
   "cell_type": "code",
   "execution_count": 12,
   "metadata": {},
   "outputs": [],
   "source": [
    "home_advantages = fit.extract()['home_advantages']\n",
    "home_advantages = pd.DataFrame(home_advantages, columns=encoder.classes_)"
   ]
  },
  {
   "cell_type": "code",
   "execution_count": 25,
   "metadata": {},
   "outputs": [
    {
     "name": "stdout",
     "output_type": "stream",
     "text": [
      "                  2.5%   25%  median   75%  97.5%\n",
      "Geelong           0.25  0.51    0.71  0.95   1.50\n",
      "GWS Giants        0.14  0.43    0.58  0.76   1.24\n",
      "West Coast        0.14  0.42    0.57  0.77   1.21\n",
      "Adelaide          0.11  0.41    0.55  0.74   1.14\n",
      "Fremantle         0.05  0.39    0.54  0.72   1.14\n",
      "North Melbourne   0.04  0.39    0.53  0.73   1.14\n",
      "Hawthorn         -0.00  0.36    0.51  0.71   1.17\n",
      "Port Adelaide    -0.01  0.34    0.49  0.64   1.01\n",
      "Carlton          -0.08  0.30    0.46  0.64   1.03\n",
      "Essendon         -0.14  0.28    0.45  0.62   1.01\n",
      "Collingwood      -0.13  0.28    0.45  0.61   1.05\n",
      "St Kilda         -0.20  0.23    0.41  0.57   0.94\n",
      "Gold Coast       -0.18  0.22    0.39  0.54   0.87\n",
      "Richmond         -0.23  0.21    0.39  0.55   0.89\n",
      "Western Bulldogs -0.21  0.21    0.39  0.54   0.90\n",
      "Sydney           -0.47  0.04    0.24  0.40   0.69\n",
      "Melbourne        -0.57 -0.04    0.20  0.38   0.66\n",
      "Brisbane         -0.64 -0.09    0.16  0.34   0.60\n"
     ]
    }
   ],
   "source": [
    "from tpr.models.utils import summarise_posteriors\n",
    "\n",
    "print(summarise_posteriors(home_advantages).sort_values('median', ascending=False).round(2))"
   ]
  },
  {
   "cell_type": "code",
   "execution_count": 14,
   "metadata": {},
   "outputs": [],
   "source": [
    "skills = fit.extract()['team_skills']"
   ]
  },
  {
   "cell_type": "code",
   "execution_count": 15,
   "metadata": {},
   "outputs": [],
   "source": [
    "this_year = pd.DataFrame(skills[:, -1, :], columns=encoder.classes_)"
   ]
  },
  {
   "cell_type": "code",
   "execution_count": 26,
   "metadata": {},
   "outputs": [
    {
     "name": "stdout",
     "output_type": "stream",
     "text": [
      "                  2.5%   25%  median   75%  97.5%\n",
      "Richmond          0.37  0.98    1.34  1.70   2.37\n",
      "Sydney           -0.14  0.50    0.83  1.16   1.80\n",
      "West Coast       -0.16  0.49    0.82  1.17   1.82\n",
      "Hawthorn         -0.40  0.26    0.59  0.93   1.62\n",
      "Collingwood      -0.38  0.22    0.56  0.90   1.58\n",
      "GWS Giants       -0.51  0.20    0.54  0.88   1.54\n",
      "Melbourne        -0.51  0.15    0.47  0.81   1.41\n",
      "Geelong          -0.70 -0.03    0.30  0.64   1.27\n",
      "Port Adelaide    -0.71 -0.08    0.25  0.59   1.22\n",
      "Essendon         -0.79 -0.14    0.18  0.49   1.13\n",
      "Adelaide         -0.84 -0.21    0.11  0.45   1.08\n",
      "North Melbourne  -1.01 -0.36   -0.02  0.31   0.92\n",
      "Western Bulldogs -1.51 -0.82   -0.48 -0.16   0.47\n",
      "Fremantle        -1.51 -0.83   -0.50 -0.17   0.53\n",
      "Brisbane         -1.97 -1.27   -0.94 -0.57   0.11\n",
      "St Kilda         -2.16 -1.42   -1.07 -0.70  -0.03\n",
      "Gold Coast       -2.46 -1.71   -1.34 -0.98  -0.32\n",
      "Carlton          -2.99 -2.19   -1.80 -1.42  -0.73\n"
     ]
    }
   ],
   "source": [
    "print(summarise_posteriors(this_year).sort_values('median', ascending=False).round(2))"
   ]
  },
  {
   "cell_type": "code",
   "execution_count": 27,
   "metadata": {},
   "outputs": [
    {
     "data": {
      "text/plain": [
       "Richmond           55.0\n",
       "West Coast         12.0\n",
       "Sydney             11.0\n",
       "Hawthorn            5.0\n",
       "Collingwood         5.0\n",
       "GWS Giants          4.0\n",
       "Melbourne           3.0\n",
       "Geelong             1.0\n",
       "Port Adelaide       1.0\n",
       "Essendon            1.0\n",
       "Adelaide            1.0\n",
       "North Melbourne     0.0\n",
       "Fremantle           0.0\n",
       "dtype: float64"
      ]
     },
     "execution_count": 27,
     "metadata": {},
     "output_type": "execute_result"
    }
   ],
   "source": [
    "# Let's look at the probability of each team being the best team\n",
    "best_team = np.argmax(this_year.values, axis=1)\n",
    "(pd.Series(encoder.classes_[best_team]).value_counts() / float(best_team.shape[0]) * 100).round(0)"
   ]
  },
  {
   "cell_type": "code",
   "execution_count": 28,
   "metadata": {},
   "outputs": [
    {
     "data": {
      "image/png": "[encoded data removed]",
      "text/plain": [
       "<matplotlib.figure.Figure at 0x1a14fdd950>"
      ]
     },
     "metadata": {
      "image/png": {
       "height": 278,
       "width": 567
      }
     },
     "output_type": "display_data"
    }
   ],
   "source": [
    "from datetime import datetime\n",
    "\n",
    "# Look at some teams\n",
    "teams = ['Richmond', 'Sydney', 'Melbourne']\n",
    "\n",
    "team_ids = encoder.transform(teams)\n",
    "\n",
    "years = (np.arange(season.max()) + data['Date'].dt.year.min()).astype(str)\n",
    "\n",
    "for cur_team, cur_id in zip(teams, team_ids):\n",
    "    \n",
    "    cur_skills = skills[:, :, cur_id]\n",
    "    mean = np.mean(cur_skills, axis=0)\n",
    "    lower = np.percentile(cur_skills, 2.5, axis=0)\n",
    "    upper = np.percentile(cur_skills, 97.5, axis=0)\n",
    "    \n",
    "    plt.plot(years, mean, label=cur_team, marker='o')\n",
    "    plt.fill_between(years, lower, upper, alpha=0.5)\n",
    "    \n",
    "plt.legend()\n",
    "plt.gcf().set_size_inches(8, 4)\n",
    "plt.gcf().tight_layout()"
   ]
  },
  {
   "cell_type": "code",
   "execution_count": 29,
   "metadata": {},
   "outputs": [],
   "source": [
    "mean_skills_overall = skills.mean(axis=0)\n",
    "mean_skills_overall = pd.DataFrame(mean_skills_overall, index=years, columns=encoder.classes_)"
   ]
  },
  {
   "cell_type": "code",
   "execution_count": 30,
   "metadata": {},
   "outputs": [
    {
     "data": {
      "text/html": [
       "<div>\n",
       "<style scoped>\n",
       "    .dataframe tbody tr th:only-of-type {\n",
       "        vertical-align: middle;\n",
       "    }\n",
       "\n",
       "    .dataframe tbody tr th {\n",
       "        vertical-align: top;\n",
       "    }\n",
       "\n",
       "    .dataframe thead th {\n",
       "        text-align: right;\n",
       "    }\n",
       "</style>\n",
       "<table border=\"1\" class=\"dataframe\">\n",
       "  <thead>\n",
       "    <tr style=\"text-align: right;\">\n",
       "      <th></th>\n",
       "      <th>2014</th>\n",
       "      <th>2015</th>\n",
       "      <th>2016</th>\n",
       "      <th>2017</th>\n",
       "      <th>2018</th>\n",
       "    </tr>\n",
       "  </thead>\n",
       "  <tbody>\n",
       "    <tr>\n",
       "      <th>Adelaide</th>\n",
       "      <td>-0.06</td>\n",
       "      <td>0.47</td>\n",
       "      <td>0.94</td>\n",
       "      <td>0.84</td>\n",
       "      <td>0.11</td>\n",
       "    </tr>\n",
       "    <tr>\n",
       "      <th>Brisbane</th>\n",
       "      <td>-0.54</td>\n",
       "      <td>-1.25</td>\n",
       "      <td>-1.47</td>\n",
       "      <td>-0.94</td>\n",
       "      <td>-0.92</td>\n",
       "    </tr>\n",
       "    <tr>\n",
       "      <th>Carlton</th>\n",
       "      <td>-0.65</td>\n",
       "      <td>-1.38</td>\n",
       "      <td>-0.82</td>\n",
       "      <td>-0.85</td>\n",
       "      <td>-1.82</td>\n",
       "    </tr>\n",
       "    <tr>\n",
       "      <th>Collingwood</th>\n",
       "      <td>0.02</td>\n",
       "      <td>-0.27</td>\n",
       "      <td>-0.35</td>\n",
       "      <td>-0.23</td>\n",
       "      <td>0.57</td>\n",
       "    </tr>\n",
       "    <tr>\n",
       "      <th>Essendon</th>\n",
       "      <td>0.21</td>\n",
       "      <td>-0.84</td>\n",
       "      <td>-1.59</td>\n",
       "      <td>0.04</td>\n",
       "      <td>0.18</td>\n",
       "    </tr>\n",
       "    <tr>\n",
       "      <th>Fremantle</th>\n",
       "      <td>0.76</td>\n",
       "      <td>1.14</td>\n",
       "      <td>-1.33</td>\n",
       "      <td>-0.56</td>\n",
       "      <td>-0.50</td>\n",
       "    </tr>\n",
       "    <tr>\n",
       "      <th>GWS Giants</th>\n",
       "      <td>-1.05</td>\n",
       "      <td>-0.21</td>\n",
       "      <td>0.92</td>\n",
       "      <td>0.71</td>\n",
       "      <td>0.54</td>\n",
       "    </tr>\n",
       "    <tr>\n",
       "      <th>Geelong</th>\n",
       "      <td>0.90</td>\n",
       "      <td>0.18</td>\n",
       "      <td>1.04</td>\n",
       "      <td>0.60</td>\n",
       "      <td>0.30</td>\n",
       "    </tr>\n",
       "    <tr>\n",
       "      <th>Gold Coast</th>\n",
       "      <td>-0.21</td>\n",
       "      <td>-1.28</td>\n",
       "      <td>-1.07</td>\n",
       "      <td>-0.96</td>\n",
       "      <td>-1.35</td>\n",
       "    </tr>\n",
       "    <tr>\n",
       "      <th>Hawthorn</th>\n",
       "      <td>1.44</td>\n",
       "      <td>1.15</td>\n",
       "      <td>0.98</td>\n",
       "      <td>-0.11</td>\n",
       "      <td>0.60</td>\n",
       "    </tr>\n",
       "    <tr>\n",
       "      <th>Melbourne</th>\n",
       "      <td>-1.24</td>\n",
       "      <td>-0.64</td>\n",
       "      <td>-0.09</td>\n",
       "      <td>0.26</td>\n",
       "      <td>0.47</td>\n",
       "    </tr>\n",
       "    <tr>\n",
       "      <th>North Melbourne</th>\n",
       "      <td>0.65</td>\n",
       "      <td>0.51</td>\n",
       "      <td>0.26</td>\n",
       "      <td>-0.96</td>\n",
       "      <td>-0.02</td>\n",
       "    </tr>\n",
       "    <tr>\n",
       "      <th>Port Adelaide</th>\n",
       "      <td>0.68</td>\n",
       "      <td>0.26</td>\n",
       "      <td>-0.19</td>\n",
       "      <td>0.35</td>\n",
       "      <td>0.25</td>\n",
       "    </tr>\n",
       "    <tr>\n",
       "      <th>Richmond</th>\n",
       "      <td>0.10</td>\n",
       "      <td>0.63</td>\n",
       "      <td>-0.51</td>\n",
       "      <td>0.94</td>\n",
       "      <td>1.34</td>\n",
       "    </tr>\n",
       "    <tr>\n",
       "      <th>St Kilda</th>\n",
       "      <td>-1.33</td>\n",
       "      <td>-0.80</td>\n",
       "      <td>0.22</td>\n",
       "      <td>0.10</td>\n",
       "      <td>-1.07</td>\n",
       "    </tr>\n",
       "    <tr>\n",
       "      <th>Sydney</th>\n",
       "      <td>1.28</td>\n",
       "      <td>0.85</td>\n",
       "      <td>1.27</td>\n",
       "      <td>0.64</td>\n",
       "      <td>0.83</td>\n",
       "    </tr>\n",
       "    <tr>\n",
       "      <th>West Coast</th>\n",
       "      <td>-0.13</td>\n",
       "      <td>1.10</td>\n",
       "      <td>0.82</td>\n",
       "      <td>0.21</td>\n",
       "      <td>0.83</td>\n",
       "    </tr>\n",
       "    <tr>\n",
       "      <th>Western Bulldogs</th>\n",
       "      <td>-0.77</td>\n",
       "      <td>0.43</td>\n",
       "      <td>1.24</td>\n",
       "      <td>0.06</td>\n",
       "      <td>-0.49</td>\n",
       "    </tr>\n",
       "  </tbody>\n",
       "</table>\n",
       "</div>"
      ],
      "text/plain": [
       "                  2014  2015  2016  2017  2018\n",
       "Adelaide         -0.06  0.47  0.94  0.84  0.11\n",
       "Brisbane         -0.54 -1.25 -1.47 -0.94 -0.92\n",
       "Carlton          -0.65 -1.38 -0.82 -0.85 -1.82\n",
       "Collingwood       0.02 -0.27 -0.35 -0.23  0.57\n",
       "Essendon          0.21 -0.84 -1.59  0.04  0.18\n",
       "Fremantle         0.76  1.14 -1.33 -0.56 -0.50\n",
       "GWS Giants       -1.05 -0.21  0.92  0.71  0.54\n",
       "Geelong           0.90  0.18  1.04  0.60  0.30\n",
       "Gold Coast       -0.21 -1.28 -1.07 -0.96 -1.35\n",
       "Hawthorn          1.44  1.15  0.98 -0.11  0.60\n",
       "Melbourne        -1.24 -0.64 -0.09  0.26  0.47\n",
       "North Melbourne   0.65  0.51  0.26 -0.96 -0.02\n",
       "Port Adelaide     0.68  0.26 -0.19  0.35  0.25\n",
       "Richmond          0.10  0.63 -0.51  0.94  1.34\n",
       "St Kilda         -1.33 -0.80  0.22  0.10 -1.07\n",
       "Sydney            1.28  0.85  1.27  0.64  0.83\n",
       "West Coast       -0.13  1.10  0.82  0.21  0.83\n",
       "Western Bulldogs -0.77  0.43  1.24  0.06 -0.49"
      ]
     },
     "execution_count": 30,
     "metadata": {},
     "output_type": "execute_result"
    }
   ],
   "source": [
    "mean_skills_overall.T.round(2)"
   ]
  },
  {
   "cell_type": "code",
   "execution_count": 21,
   "metadata": {},
   "outputs": [
    {
     "data": {
      "image/png": "[encoded data removed]",
      "text/plain": [
       "<matplotlib.figure.Figure at 0x1a15507dd0>"
      ]
     },
     "metadata": {
      "image/png": {
       "height": 279,
       "width": 711
      }
     },
     "output_type": "display_data"
    }
   ],
   "source": [
    "f, ax = plt.subplots(1, 2)\n",
    "\n",
    "mean_home = fit.extract()['home_ad_mean']\n",
    "sns.distplot(mean_home, ax=ax[0], kde=False, norm_hist=True)\n",
    "sns.distplot(fit.extract()['home_ad_var'], ax=ax[1], kde=False, norm_hist=True)\n",
    "\n",
    "f.set_size_inches(10, 4)\n",
    "\n",
    "ax[0].set_title('Home Advantage Mean')\n",
    "ax[1].set_title('Home Advantage SD')\n",
    "\n",
    "f.tight_layout()\n",
    "\n",
    "plt.savefig('../talks/august_2018_example_models/mean_var_home_ad.png', dpi=300)"
   ]
  },
  {
   "cell_type": "code",
   "execution_count": 22,
   "metadata": {},
   "outputs": [
    {
     "data": {
      "text/plain": [
       "0.0"
      ]
     },
     "execution_count": 22,
     "metadata": {},
     "output_type": "execute_result"
    }
   ],
   "source": [
    "p_all_same = np.mean(fit.extract()['home_ad_var'] < 1e-2)\n",
    "p_all_same"
   ]
  },
  {
   "cell_type": "code",
   "execution_count": 23,
   "metadata": {},
   "outputs": [
    {
     "data": {
      "text/plain": [
       "(0.4482299607765608, 0.3187410575817976)"
      ]
     },
     "execution_count": 23,
     "metadata": {},
     "output_type": "execute_result"
    }
   ],
   "source": [
    "mean_home.mean(), fit.extract()['home_ad_var'].mean()"
   ]
  },
  {
   "cell_type": "code",
   "execution_count": 24,
   "metadata": {},
   "outputs": [
    {
     "data": {
      "text/plain": [
       "0.598687660112452"
      ]
     },
     "execution_count": 24,
     "metadata": {},
     "output_type": "execute_result"
    }
   ],
   "source": [
    "from scipy.special import expit\n",
    "\n",
    "expit(0.4)"
   ]
  },
  {
   "cell_type": "code",
   "execution_count": null,
   "metadata": {},
   "outputs": [],
   "source": []
  }
 ],
 "metadata": {
  "kernelspec": {
   "display_name": "Python 2",
   "language": "python",
   "name": "python2"
  },
  "language_info": {
   "codemirror_mode": {
    "name": "ipython",
    "version": 2
   },
   "file_extension": ".py",
   "mimetype": "text/x-python",
   "name": "python",
   "nbconvert_exporter": "python",
   "pygments_lexer": "ipython2",
   "version": "2.7.14"
  }
 },
 "nbformat": 4,
 "nbformat_minor": 2
}
